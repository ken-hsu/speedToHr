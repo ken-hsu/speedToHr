{
 "metadata": {
  "language_info": {
   "codemirror_mode": {
    "name": "ipython",
    "version": 3
   },
   "file_extension": ".py",
   "mimetype": "text/x-python",
   "name": "python",
   "nbconvert_exporter": "python",
   "pygments_lexer": "ipython3",
   "version": 3
  },
  "orig_nbformat": 2
 },
 "nbformat": 4,
 "nbformat_minor": 2,
 "cells": [
  {
   "cell_type": "code",
   "execution_count": null,
   "metadata": {},
   "outputs": [],
   "source": [
    "import json\n",
    "import pandas as pd\n",
    "import numpy as np\n",
    "import matplotlib.pyplot as plt\n",
    "\n",
    "path = 'C:\\Users\\a0920\\Documents\\maxHR\\PA_ID\\PAID_2021_01_05_Tiger\\OH1\\polar_HR_2021-01-05_16-39-25.csv'\n",
    "raw_data = pd.read_csv(path)\n"
   ]
  }
 ]
}