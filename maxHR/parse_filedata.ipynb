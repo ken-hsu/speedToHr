{
 "metadata": {
  "language_info": {
   "codemirror_mode": {
    "name": "ipython",
    "version": 3
   },
   "file_extension": ".py",
   "mimetype": "text/x-python",
   "name": "python",
   "nbconvert_exporter": "python",
   "pygments_lexer": "ipython3",
   "version": "3.9.1-final"
  },
  "orig_nbformat": 2,
  "kernelspec": {
   "name": "python3",
   "display_name": "Python 3",
   "language": "python"
  }
 },
 "nbformat": 4,
 "nbformat_minor": 2,
 "cells": [
  {
   "cell_type": "code",
   "execution_count": 8,
   "metadata": {},
   "outputs": [],
   "source": [
    "import os\n",
    "import pandas as pd\n",
    "import csv\n",
    "import zipfile, json, glob\n",
    "\n",
    "name_list = os.listdir('data/')\n",
    "for name in name_list:\n",
    "    os.mkdir('csv_data/' + name)\n",
    "    for d in glob.glob(\"data/\" + name + \"/*.zip\"):\n",
    "        filename = os.path.basename(d)\n",
    "        filename = filename.split('.')[0]\n",
    "        speed = []\n",
    "        hr = []\n",
    "        with zipfile.ZipFile(d, 'r') as zf:\n",
    "            open(\"file_data\", 'wb').write(zf.read(\"file_data\"))\n",
    "            with open(\"file_data\") as ff:\n",
    "                filedata = json.load(ff)\n",
    "                for record in filedata:\n",
    "                    speed.append(float(record[\"sp\"])*3.6)\n",
    "                    hr.append(float(record[\"hr\"]))\n",
    "        with open('csv_data/' + name + '/' + filename + '.csv', 'w', newline='') as csvfile:\n",
    "            writer = csv.writer(csvfile)\n",
    "            for i in range(len(speed)):\n",
    "                writer.writerow([str(speed[i]), str(hr[i])])\n"
   ]
  },
  {
   "cell_type": "code",
   "execution_count": null,
   "metadata": {},
   "outputs": [],
   "source": []
  }
 ]
}