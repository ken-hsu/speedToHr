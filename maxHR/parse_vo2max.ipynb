{
 "metadata": {
  "language_info": {
   "codemirror_mode": {
    "name": "ipython",
    "version": 3
   },
   "file_extension": ".py",
   "mimetype": "text/x-python",
   "name": "python",
   "nbconvert_exporter": "python",
   "pygments_lexer": "ipython3",
   "version": "3.9.1-final"
  },
  "orig_nbformat": 2,
  "kernelspec": {
   "name": "python3",
   "display_name": "Python 3",
   "language": "python"
  }
 },
 "nbformat": 4,
 "nbformat_minor": 2,
 "cells": [
  {
   "cell_type": "code",
   "execution_count": 1,
   "metadata": {},
   "outputs": [
    {
     "output_type": "stream",
     "name": "stdout",
     "text": [
      "    label      name  gender   age         ID  warm_up_speed\n0     1.0     james       1  29.0  2791829.0            5.0\n1     2.0       jun       1  36.0  2791820.0            5.0\n2     3.0  mingchia       1  40.0  2791870.0            5.0\n3     4.0     lance       1  34.0  2791818.0            6.0\n4     5.0     metis       0  26.0  2791781.0            6.0\n5     6.0      liam       1  33.0  2791845.0            8.0\n6     7.0      show       1  27.0  2791784.0            6.0\n7     8.0     terry       1  40.0  2791817.0            7.0\n8     9.0      jing       1  37.0  2791789.0            6.0\n9    10.0       may       0  33.0  2791787.0            6.0\n10   11.0       ace       1  43.0  2791785.0            5.0\n11   12.0     stone       1  36.0  2791814.0            6.5\n12   13.0     frank       1  37.0  2791793.0            8.0\n13   14.0      gary       1  46.0  2791792.0            6.0\n14   15.0        yt       1  33.0  2791823.0            8.0\n15   16.0      pink       0  37.0  2791776.0            5.0\n16   17.0     tiger       1  32.0  2791788.0            5.0\n17   18.0    elaine       0  38.0  2791822.0            6.0\n18   19.0     eurie       0  35.0  2791790.0            5.0\n19   20.0     steve       1  31.0  2791816.0            6.0\n20   21.0     louie       1  25.0  2791844.0            7.0\n21   22.0      eric       1  36.0  2791815.0            7.0\n22   23.0       ken       1  27.0  2791825.0            6.0\n23   24.0  michelle       0  27.0  2791827.0            5.0\n24   25.0       amy       0  23.0  2791826.0            5.0\n25   26.0    datong       0  26.0  2791745.0            6.0\n26   27.0   yinshin       1  39.0  2791786.0            7.0\n27   28.0   richard       1  28.0  2791838.0            6.0\n"
     ]
    }
   ],
   "source": [
    "import pandas as pd\n",
    "\n",
    "filename = 'vo2max_data/vo2max_profile.xlsx'\n",
    "profile = pd.read_excel(filename)\n",
    "profile = profile[profile['name'].notna()]\n",
    "profile.dropna(axis='columns', inplace=True)\n",
    "profile['name'] = profile['name'].apply(lambda x: x.split(' ')[0].lower())\n",
    "profile['gender'] = profile['gender'].astype(int)\n",
    "print(profile)"
   ]
  },
  {
   "cell_type": "code",
   "execution_count": 2,
   "metadata": {
    "tags": []
   },
   "outputs": [],
   "source": [
    "import pandas as pd\n",
    "import os\n",
    "import math\n",
    "import csv\n",
    "\n",
    "name_list = os.listdir('vo2max_data/process/')\n",
    "name_list = [x.split('.')[0] for x in name_list]\n",
    "min_time = 999999\n",
    "for name in name_list:\n",
    "    workout = pd.read_excel('vo2max_data/process/' + name + '.xlsx')\n",
    "    firstname = name.split('_')[0]\n",
    "    warm_up_speed = profile[profile['name'] == firstname]['warm_up_speed'].values[0]\n",
    "    gender = profile[profile['name'] == firstname]['gender'].values[0]\n",
    "    gender_mapping_speed = [6.0, 8.0]\n",
    "    workout.drop(columns=['Marker', 'V\\'O2', 'V\\'O2/kg', 'V\\'O2/HR'], inplace=True)\n",
    "    workout = workout[workout['t'].notna()]\n",
    "    workout = workout[workout['Phase'].isin(['Rest', 'Warm Up', 'Exercise'])]\n",
    "    workout['t'] = workout['t'].apply(lambda x: int(x.split(':')[-1].split('.')[0]) + 60*int(x.split(':')[1]))\n",
    "    workout_list = workout.values.tolist()\n",
    "    hr_prev = 0.0\n",
    "    ts_prev = 0\n",
    "    pad_workout = []\n",
    "    pad_workout.append([0, 'Rest', workout_list[0][2], 0])\n",
    "    for i in range(len(workout_list)):\n",
    "        ts_prev = pad_workout[-1][0]\n",
    "        state_prev = pad_workout[-1][1]\n",
    "        hr_prev = pad_workout[-1][2]\n",
    "        ts_now = workout_list[i][0]\n",
    "        hr_now = workout_list[i][2]\n",
    "        # if ts_now > 900:\n",
    "        #     break\n",
    "        diff_ts = ts_now - ts_prev\n",
    "        if diff_ts == 0:\n",
    "            continue\n",
    "        hr_step = (hr_now - hr_prev) / diff_ts\n",
    "        for j in range(ts_prev+1, ts_now):\n",
    "            if j < 300:\n",
    "                speed = 0\n",
    "            elif j <= 600 and j >= 300:\n",
    "                speed = warm_up_speed\n",
    "            else:\n",
    "                speed = math.ceil(j/60 - 10) - 1 + gender_mapping_speed[gender]\n",
    "            pad_workout.append([j, state_prev, hr_prev+hr_step*(j-ts_prev), speed])\n",
    "        if ts_now < 300:\n",
    "            speed = 0\n",
    "        elif ts_now <= 600 and ts_now >= 300:\n",
    "            speed = warm_up_speed\n",
    "        else:\n",
    "            speed = math.ceil(ts_now/60 - 10) - 1 + gender_mapping_speed[gender]\n",
    "            \n",
    "        new_record = workout_list[i].copy()\n",
    "        new_record.append(speed)\n",
    "        pad_workout.append(new_record)\n",
    "    pad_workout = [record for record in pad_workout if record[1] != 'Rest']\n",
    "    min_time = min(min_time, pad_workout[-1][0])\n",
    "    with open('vo2max_data/full_csv/' + name + '.csv', 'w', newline='') as csvfile:\n",
    "        writer = csv.writer(csvfile)\n",
    "        writer.writerow(['speed', 'hr'])\n",
    "        for i in range(len(pad_workout)):\n",
    "            writer.writerow([str(pad_workout[i][-1]), str(pad_workout[i][-2])])\n",
    "    # print(pad_workout)\n",
    "    # break\n"
   ]
  },
  {
   "cell_type": "code",
   "execution_count": 53,
   "metadata": {},
   "outputs": [
    {
     "output_type": "execute_result",
     "data": {
      "text/plain": [
       "863"
      ]
     },
     "metadata": {},
     "execution_count": 53
    }
   ],
   "source": [
    "min_time"
   ]
  },
  {
   "cell_type": "code",
   "execution_count": null,
   "metadata": {},
   "outputs": [],
   "source": []
  }
 ]
}